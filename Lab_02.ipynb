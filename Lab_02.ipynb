{
 "cells": [
  {
   "cell_type": "code",
   "execution_count": 9,
   "id": "6722d24b-0408-4664-a7bc-b61e7a084046",
   "metadata": {},
   "outputs": [],
   "source": [
    "import cv2\n",
    "import numpy as np"
   ]
  },
  {
   "cell_type": "code",
   "execution_count": 10,
   "id": "e2e771ea-af28-4e39-b241-2ace6a6f47d4",
   "metadata": {},
   "outputs": [],
   "source": [
    "image = cv2.imread(\"image.jpg\")"
   ]
  },
  {
   "cell_type": "code",
   "execution_count": 11,
   "id": "09bf04fc-b34c-4a57-b237-79d030aa3730",
   "metadata": {},
   "outputs": [],
   "source": [
    "angle = 45\n",
    "scale = 1.5\n",
    "\n",
    "#get the height and width of the image\n",
    "height, width = image.shape[:2]\n",
    "\n",
    "#get the center of the image\n",
    "center = (width//2, height//2)"
   ]
  },
  {
   "cell_type": "code",
   "execution_count": 12,
   "id": "bf9a92f3-9125-450b-af2c-050f36cb2564",
   "metadata": {},
   "outputs": [],
   "source": [
    "#get the rotation matrix\n",
    "rotation_matrix = cv2.getRotationMatrix2D(center, angle, scale)\n",
    "\n",
    "#apply the rotation to the image\n",
    "rotated_image = cv2.warpAffine(image, rotation_matrix, (width,height))"
   ]
  },
  {
   "cell_type": "code",
   "execution_count": 13,
   "id": "0ec6a44d-03dd-4b05-82a1-b21c89a4c885",
   "metadata": {},
   "outputs": [],
   "source": [
    "#define the translation factors\n",
    "tx = 50\n",
    "ty = 100\n",
    "\n",
    "#get the translation matrix\n",
    "translation_matrix = np.float32([[1,0,tx],[0,1,ty]])\n",
    "\n",
    "#apply the translation to the image\n",
    "translated_image = cv2.warpAffine(rotated_image, translation_matrix, (width,height))"
   ]
  },
  {
   "cell_type": "code",
   "execution_count": 8,
   "id": "357cf687-3c91-4a84-818b-6434902977c6",
   "metadata": {},
   "outputs": [
    {
     "data": {
      "text/plain": [
       "True"
      ]
     },
     "execution_count": 8,
     "metadata": {},
     "output_type": "execute_result"
    }
   ],
   "source": [
    "cv2.imwrite(\"Rotated.jpg\",rotated_image)\n",
    "cv2.imwrite(\"Translated.jpg\",translated_image)"
   ]
  },
  {
   "cell_type": "code",
   "execution_count": null,
   "id": "26981afd-7acb-4ae8-bed2-d9d5b1822ff0",
   "metadata": {},
   "outputs": [],
   "source": [
    "#display the original and modified images\n",
    "cv2.imshow(\"Original\",image)\n",
    "\n",
    "#Rotated image\n",
    "cv2.imshow(\"Rotated Image\", rotated_image)\n",
    "\n",
    "#Translated image\n",
    "cv2.imshow(\"Translated Image\", translated_image)\n",
    "\n",
    "cv2.imshow(\"Roated, Scaled and Translated\", translated_image)\n",
    "cv2.waitKey(0)\n",
    "cv2.destroyAllWindows()"
   ]
  },
  {
   "cell_type": "code",
   "execution_count": null,
   "id": "a730b761-2841-4b3b-bb25-c19f1457843d",
   "metadata": {},
   "outputs": [],
   "source": []
  }
 ],
 "metadata": {
  "kernelspec": {
   "display_name": "Python 3 (ipykernel)",
   "language": "python",
   "name": "python3"
  },
  "language_info": {
   "codemirror_mode": {
    "name": "ipython",
    "version": 3
   },
   "file_extension": ".py",
   "mimetype": "text/x-python",
   "name": "python",
   "nbconvert_exporter": "python",
   "pygments_lexer": "ipython3",
   "version": "3.10.9"
  }
 },
 "nbformat": 4,
 "nbformat_minor": 5
}
