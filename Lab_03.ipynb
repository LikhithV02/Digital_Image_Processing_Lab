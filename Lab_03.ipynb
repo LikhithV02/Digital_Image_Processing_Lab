{
 "cells": [
  {
   "cell_type": "code",
   "execution_count": null,
   "id": "3711ce7b-d730-4b6c-9018-f91f980f59bf",
   "metadata": {},
   "outputs": [],
   "source": [
    "import cv2\n",
    "import numpy as np"
   ]
  },
  {
   "cell_type": "code",
   "execution_count": null,
   "id": "0d800599-aa84-4203-8812-be872355a270",
   "metadata": {},
   "outputs": [],
   "source": [
    "#read the image\n",
    "img=cv2.imread('image.jpg',cv2.IMREAD_GRAYSCALE)"
   ]
  },
  {
   "cell_type": "code",
   "execution_count": null,
   "id": "a434cfd1-7d56-49f5-b152-981a464b7116",
   "metadata": {},
   "outputs": [],
   "source": [
    "#define the erosion and dilution kernels\n",
    "kernel=np.ones((5,5),np.uint8)"
   ]
  },
  {
   "cell_type": "code",
   "execution_count": null,
   "id": "79e1fd2a-6793-4387-9178-d02473127ccd",
   "metadata": {},
   "outputs": [],
   "source": [
    "#Apply erosion to the image\n",
    "erosion=cv2.erode(img,kernel,iterations=1)\n",
    "#subtract the erosion from the oe=riginal image\n",
    "diff_erosion=cv2.absdiff(img,erosion)\n",
    "\n",
    "cv2.imwrite(\"Erosion.jpg\", diff_erosion)\n",
    "\n",
    "#display the difference after erosion\n",
    "cv2.imshow('Difference after erosion', diff_erosion)\n",
    "cv2.waitKey(0)"
   ]
  },
  {
   "cell_type": "code",
   "execution_count": null,
   "id": "a904bca4-5049-4628-bb6b-6ddaf1467448",
   "metadata": {},
   "outputs": [],
   "source": [
    "#Apply dilation to the image\n",
    "dilation=cv2.dilate(img,kernel,iterations=1)\n",
    "\n",
    "#subtract the dilation from the original image\n",
    "diff_dilation=cv2.absdiff(img,dilation)\n",
    "\n",
    "cv2.imwrite(\"Dilation.jpg\", diff_dilation)\n",
    "\n",
    "#display the difference after dilation\n",
    "cv2.imshow('Difference after dilation', diff_dilation)\n",
    "cv2.waitKey(0)"
   ]
  },
  {
   "cell_type": "code",
   "execution_count": null,
   "id": "5bb98fb1-9468-4be5-8d9e-e8d243cc966e",
   "metadata": {},
   "outputs": [],
   "source": []
  }
 ],
 "metadata": {
  "kernelspec": {
   "display_name": "Python 3 (ipykernel)",
   "language": "python",
   "name": "python3"
  },
  "language_info": {
   "codemirror_mode": {
    "name": "ipython",
    "version": 3
   },
   "file_extension": ".py",
   "mimetype": "text/x-python",
   "name": "python",
   "nbconvert_exporter": "python",
   "pygments_lexer": "ipython3",
   "version": "3.10.9"
  }
 },
 "nbformat": 4,
 "nbformat_minor": 5
}
