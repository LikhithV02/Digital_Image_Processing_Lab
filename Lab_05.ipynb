{
 "cells": [
  {
   "cell_type": "code",
   "execution_count": 1,
   "id": "9085cb11-33e5-429d-ab41-68dece74cf57",
   "metadata": {},
   "outputs": [],
   "source": [
    "import cv2\n",
    "import numpy as np"
   ]
  },
  {
   "cell_type": "code",
   "execution_count": 2,
   "id": "ba911934-eba6-4226-a74e-5cb8e665efbf",
   "metadata": {},
   "outputs": [],
   "source": [
    "img=cv2.imread(\"image.jpg\",0)"
   ]
  },
  {
   "cell_type": "code",
   "execution_count": 3,
   "id": "551a0030-6443-4971-98af-4d7b9407f64e",
   "metadata": {},
   "outputs": [],
   "source": [
    "enchanced=cv2.equalizeHist(img)\n",
    "ret,thresholded=cv2.threshold(enchanced,0,255,cv2.THRESH_BINARY +cv2.THRESH_OTSU)"
   ]
  },
  {
   "cell_type": "code",
   "execution_count": 4,
   "id": "5e4a76ce-76a7-44fc-b1e6-67f54c94e13d",
   "metadata": {},
   "outputs": [
    {
     "data": {
      "text/plain": [
       "True"
      ]
     },
     "execution_count": 4,
     "metadata": {},
     "output_type": "execute_result"
    }
   ],
   "source": [
    "cv2.imwrite(\"Enhanced.jpg\", enchanced)\n",
    "cv2.imwrite(\"Segmented.jpg\", thresholded)\n",
    "cv2.imwrite(\"L5_original.jpg\", img)"
   ]
  },
  {
   "cell_type": "code",
   "execution_count": null,
   "id": "fb6dc92e-9661-4b15-983c-a4256e83aea3",
   "metadata": {},
   "outputs": [],
   "source": [
    "cv2.imshow(\"original\",img)\n",
    "cv2.imshow(\"enhanced\",enchanced)\n",
    "cv2.imshow(\"segmented\",thresholded)\n",
    "cv2.waitKey(0)\n",
    "cv2.destroyAllWindows()"
   ]
  },
  {
   "cell_type": "code",
   "execution_count": null,
   "id": "8f5663a2-ac2b-45a4-83e8-5fac4ff023b6",
   "metadata": {},
   "outputs": [],
   "source": []
  }
 ],
 "metadata": {
  "kernelspec": {
   "display_name": "Python 3 (ipykernel)",
   "language": "python",
   "name": "python3"
  },
  "language_info": {
   "codemirror_mode": {
    "name": "ipython",
    "version": 3
   },
   "file_extension": ".py",
   "mimetype": "text/x-python",
   "name": "python",
   "nbconvert_exporter": "python",
   "pygments_lexer": "ipython3",
   "version": "3.10.9"
  }
 },
 "nbformat": 4,
 "nbformat_minor": 5
}
