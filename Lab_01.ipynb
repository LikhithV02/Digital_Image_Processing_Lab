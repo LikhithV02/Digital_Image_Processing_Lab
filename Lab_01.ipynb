{
 "cells": [
  {
   "cell_type": "code",
   "execution_count": 4,
   "id": "638992b0-27a6-47d1-992c-30655e57d8c8",
   "metadata": {},
   "outputs": [],
   "source": [
    "import cv2"
   ]
  },
  {
   "cell_type": "code",
   "execution_count": 5,
   "id": "90a60490-dfbc-4aa7-bd08-7aba1dc4afa7",
   "metadata": {},
   "outputs": [],
   "source": [
    "image = cv2.imread(\"image.jpg\")"
   ]
  },
  {
   "cell_type": "code",
   "execution_count": 6,
   "id": "1ba4afc1-97d5-4d0a-a0a1-a729df6618d1",
   "metadata": {},
   "outputs": [],
   "source": [
    "height, width = image.shape[:2]          #the height and width of the original image are determined using the 'shape' method\n",
    "mid_height = height//2                   #mid points of the height and width are calculated using integer division\n",
    "mid_width = width//2                     #the midpoints are used to divide the image  into 4 parts"
   ]
  },
  {
   "cell_type": "code",
   "execution_count": 7,
   "id": "2a89d662-1c03-4aac-b9f8-5ad9999f14ad",
   "metadata": {},
   "outputs": [],
   "source": [
    "up = image[:mid_height, :mid_width]\n",
    "down = image[mid_height:, :mid_width]\n",
    "right = image[:mid_height, mid_width:]\n",
    "left = image[mid_height:, mid_width:]"
   ]
  },
  {
   "cell_type": "code",
   "execution_count": 8,
   "id": "351d2a73-825c-40dd-b244-ad8675e5d7ca",
   "metadata": {},
   "outputs": [
    {
     "data": {
      "text/plain": [
       "True"
      ]
     },
     "execution_count": 8,
     "metadata": {},
     "output_type": "execute_result"
    }
   ],
   "source": [
    "cv2.imwrite(\"up.jpg\",up)                   #the 4 parts are saved as separate images using the 'imwrite' method \n",
    "cv2.imwrite(\"down.jpg\",down)\n",
    "cv2.imwrite(\"right.jpg\",right)\n",
    "cv2.imwrite(\"left.jpg\",left)"
   ]
  }
 ],
 "metadata": {
  "kernelspec": {
   "display_name": "Python 3 (ipykernel)",
   "language": "python",
   "name": "python3"
  },
  "language_info": {
   "codemirror_mode": {
    "name": "ipython",
    "version": 3
   },
   "file_extension": ".py",
   "mimetype": "text/x-python",
   "name": "python",
   "nbconvert_exporter": "python",
   "pygments_lexer": "ipython3",
   "version": "3.10.9"
  }
 },
 "nbformat": 4,
 "nbformat_minor": 5
}
